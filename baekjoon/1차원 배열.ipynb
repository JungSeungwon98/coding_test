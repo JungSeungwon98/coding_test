{
 "cells": [
  {
   "cell_type": "markdown",
   "id": "b695dd7c",
   "metadata": {},
   "source": [
    "#### 문제 1 : 개수 세기\n",
    "- 총 N개의 정수가 주어졌을 때, 정수 v가 몇 개인지 구하는 프로그램을 작성하시오."
   ]
  },
  {
   "cell_type": "code",
   "execution_count": 1,
   "id": "460f4f3e",
   "metadata": {},
   "outputs": [
    {
     "name": "stdout",
     "output_type": "stream",
     "text": [
      "3\n"
     ]
    }
   ],
   "source": [
    "n = int(input())\n",
    "res = list(map(int, input().split()))\n",
    "v = int(input())\n",
    "print(res.count(v))"
   ]
  },
  {
   "cell_type": "markdown",
   "id": "79ec52d2",
   "metadata": {},
   "source": [
    "#### 문제 2 : X보다 작은 수\n",
    "- 정수 N개로 이루어진 수열 A와 정수 X가 주어진다. 이때, A에서 X보다 작은 수를 모두 출력하는 프로그램을 작성하시오."
   ]
  },
  {
   "cell_type": "code",
   "execution_count": 6,
   "id": "e74dfd2c",
   "metadata": {},
   "outputs": [
    {
     "name": "stdout",
     "output_type": "stream",
     "text": [
      "1 4 2 3 "
     ]
    }
   ],
   "source": [
    "n, x = map(int, input().split())\n",
    "a = list(map(int, input().split()))\n",
    "for i in range (len(a)):\n",
    "    if a[i] < x:\n",
    "        print(a[i], end = \" \")"
   ]
  },
  {
   "cell_type": "markdown",
   "id": "e52dbec7",
   "metadata": {},
   "source": [
    "#### 문제 3 : 최소, 최대\n",
    "- N개의 정수가 주어진다. 이때, 최솟값과 최댓값을 구하는 프로그램을 작성하시오."
   ]
  },
  {
   "cell_type": "code",
   "execution_count": null,
   "id": "861ef9da",
   "metadata": {},
   "outputs": [
    {
     "name": "stdout",
     "output_type": "stream",
     "text": [
      "35 7\n"
     ]
    }
   ],
   "source": [
    "n = int(input())\n",
    "list_ = list(map(int, input().split()))\n",
    "print(min(list_), max(list_))"
   ]
  },
  {
   "cell_type": "markdown",
   "id": "d08febf7",
   "metadata": {},
   "source": [
    "#### 문제 4 : 최댓값\n",
    "- 9개의 서로 다른 자연수가 주어질 때, 이들 중 최댓값을 찾고 그 최댓값이 몇 번째 수인지를 구하는 프로그램을 작성하시오."
   ]
  },
  {
   "cell_type": "code",
   "execution_count": 5,
   "id": "00f236f6",
   "metadata": {},
   "outputs": [
    {
     "name": "stdout",
     "output_type": "stream",
     "text": [
      "85\n",
      "8\n"
     ]
    }
   ],
   "source": [
    "res = []\n",
    "for i in range(9):\n",
    "    i = int(input())\n",
    "    res.append(i)\n",
    "print(max(res))\n",
    "print(res.index(max(res))+1)"
   ]
  },
  {
   "cell_type": "markdown",
   "id": "21a89193",
   "metadata": {},
   "source": [
    "#### 문제5 : 공 넣기"
   ]
  },
  {
   "cell_type": "code",
   "execution_count": 5,
   "id": "3c25e543",
   "metadata": {},
   "outputs": [
    {
     "name": "stdout",
     "output_type": "stream",
     "text": [
      "1 2 1 1 0 "
     ]
    }
   ],
   "source": [
    "n, m = map(int, input().split())\n",
    "box = [0] * (n + 1)\n",
    "\n",
    "for a in range(m):\n",
    "    i, j, k = map(int, input().split())\n",
    "    for b in range(i, j + 1):\n",
    "        box[b] = k\n",
    "\n",
    "for i in range(1, n + 1):\n",
    "    print(box[i], end = ' ')"
   ]
  },
  {
   "cell_type": "markdown",
   "id": "760fd6c6",
   "metadata": {},
   "source": [
    "#### 문제6 : 공 바꾸기"
   ]
  },
  {
   "cell_type": "code",
   "execution_count": null,
   "id": "65ba73bf",
   "metadata": {},
   "outputs": [
    {
     "name": "stdout",
     "output_type": "stream",
     "text": [
      "31425"
     ]
    }
   ],
   "source": [
    "n, m = map(int, input().split())\n",
    "\n",
    "box = list(range(1, n + 1))\n",
    "\n",
    "for a in range(m):\n",
    "    i, j = map(int, input().split())\n",
    "    box[i - 1], box[j - 1] = box[j - 1], box[i - 1]\n",
    "\n",
    "for b in box:\n",
    "    print(b, end = ' ')"
   ]
  },
  {
   "cell_type": "markdown",
   "id": "bb30255e",
   "metadata": {},
   "source": [
    "#### 문제 7 : 과제 안 내신 분..?\n",
    "- X대학 M교수님은 프로그래밍 수업을 맡고 있다. 교실엔 학생이 30명이 있는데, 학생 명부엔 각 학생별로 1번부터 30번까지 출석번호가 붙어 있다.\n",
    "- 교수님이 내준 특별과제를 28명이 제출했는데, 그 중에서 제출 안 한 학생 2명의 출석번호를 구하는 프로그램을 작성하시오."
   ]
  },
  {
   "cell_type": "code",
   "execution_count": 11,
   "id": "23f0e920",
   "metadata": {},
   "outputs": [
    {
     "name": "stdout",
     "output_type": "stream",
     "text": [
      "2\n",
      "8\n"
     ]
    }
   ],
   "source": [
    "student = list(range(1, 31))\n",
    "\n",
    "for i in range(28):\n",
    "    a = int(input())\n",
    "    student.remove(a)\n",
    "\n",
    "print(min(student))\n",
    "print(max(student))"
   ]
  },
  {
   "cell_type": "markdown",
   "id": "91dd4262",
   "metadata": {},
   "source": [
    "#### 문제8 : 나머지\n",
    "- 두 자연수 A와 B가 있을 때, A%B는 A를 B로 나눈 나머지 이다. 예를 들어, 7, 14, 27, 38을 3으로 나눈 나머지는 1, 2, 0, 2이다. \n",
    "- 수 10개를 입력받은 뒤, 이를 42로 나눈 나머지를 구한다. 그 다음 서로 다른 값이 몇 개 있는지 출력하는 프로그램을 작성하시오."
   ]
  },
  {
   "cell_type": "code",
   "execution_count": 13,
   "id": "1690ed74",
   "metadata": {},
   "outputs": [
    {
     "name": "stdout",
     "output_type": "stream",
     "text": [
      "10\n"
     ]
    }
   ],
   "source": [
    "res = []\n",
    "for i in range(10):\n",
    "    num = int(input())\n",
    "    if num % 42 not in res:\n",
    "        res.append(num % 42)\n",
    "print(len(res))"
   ]
  },
  {
   "cell_type": "markdown",
   "id": "58179f52",
   "metadata": {},
   "source": [
    "#### 문제 9 : 바구니 뒤집기"
   ]
  },
  {
   "cell_type": "code",
   "execution_count": 14,
   "id": "be4332f0",
   "metadata": {},
   "outputs": [
    {
     "name": "stdout",
     "output_type": "stream",
     "text": [
      "3 4 1 2 5 "
     ]
    }
   ],
   "source": [
    "n, m = map(int, input().split())\n",
    "\n",
    "box = list(range(1, n + 1))\n",
    "\n",
    "temp = 0\n",
    "\n",
    "for a in range(m):\n",
    "    i, j = map(int, input().split())\n",
    "    temp = box[i - 1 : j]\n",
    "    temp.reverse()\n",
    "    box[i - 1 : j] = temp\n",
    "\n",
    "for i in range(n):\n",
    "    print(box[i], end = ' ')"
   ]
  },
  {
   "cell_type": "markdown",
   "id": "11c091c3",
   "metadata": {},
   "source": [
    "#### 문제 10 : 평균\n",
    "- 세준이는 기말고사를 망쳤다. 세준이는 점수를 조작해서 집에 가져가기로 했다. 일단 세준이는 자기 점수 중에 최댓값을 골랐다. 이 값을 M이라고 한다. 그리고 나서 모든 점수를 점수/M*100으로 고쳤다.\n",
    "- 예를 들어, 세준이의 최고점이 70이고, 수학점수가 50이었으면 수학점수는 50/70*100이 되어 71.43점이 된다.\n",
    "- 세준이의 성적을 위의 방법대로 새로 계산했을 때, 새로운 평균을 구하는 프로그램을 작성하시오."
   ]
  },
  {
   "cell_type": "code",
   "execution_count": null,
   "id": "0f9586f2",
   "metadata": {},
   "outputs": [],
   "source": [
    "n = int(input())\n",
    "score = list(map(int, input().split()))\n",
    "M = max(score)\n",
    "\n",
    "for i in range(n):\n",
    "    score[i] = score[i] / M * 100\n",
    "\n",
    "print(sum(score) / n)"
   ]
  }
 ],
 "metadata": {
  "kernelspec": {
   "display_name": "Python 3",
   "language": "python",
   "name": "python3"
  },
  "language_info": {
   "codemirror_mode": {
    "name": "ipython",
    "version": 3
   },
   "file_extension": ".py",
   "mimetype": "text/x-python",
   "name": "python",
   "nbconvert_exporter": "python",
   "pygments_lexer": "ipython3",
   "version": "3.11.2"
  }
 },
 "nbformat": 4,
 "nbformat_minor": 5
}
