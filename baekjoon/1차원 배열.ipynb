{
 "cells": [
  {
   "cell_type": "markdown",
   "id": "b695dd7c",
   "metadata": {},
   "source": [
    "#### 문제 1 : 개수 세기\n",
    "- 총 N개의 정수가 주어졌을 때, 정수 v가 몇 개인지 구하는 프로그램을 작성하시오."
   ]
  },
  {
   "cell_type": "code",
   "execution_count": 1,
   "id": "460f4f3e",
   "metadata": {},
   "outputs": [
    {
     "name": "stdout",
     "output_type": "stream",
     "text": [
      "3\n"
     ]
    }
   ],
   "source": [
    "n = int(input())\n",
    "res = list(map(int, input().split()))\n",
    "v = int(input())\n",
    "print(res.count(v))"
   ]
  },
  {
   "cell_type": "markdown",
   "id": "79ec52d2",
   "metadata": {},
   "source": [
    "#### 문제 2 : X보다 작은 수\n",
    "- 정수 N개로 이루어진 수열 A와 정수 X가 주어진다. 이때, A에서 X보다 작은 수를 모두 출력하는 프로그램을 작성하시오."
   ]
  },
  {
   "cell_type": "code",
   "execution_count": 6,
   "id": "e74dfd2c",
   "metadata": {},
   "outputs": [
    {
     "name": "stdout",
     "output_type": "stream",
     "text": [
      "1 4 2 3 "
     ]
    }
   ],
   "source": [
    "n, x = map(int, input().split())\n",
    "a = list(map(int, input().split()))\n",
    "for i in range (len(a)):\n",
    "    if a[i] < x:\n",
    "        print(a[i], end = \" \")"
   ]
  },
  {
   "cell_type": "markdown",
   "id": "e52dbec7",
   "metadata": {},
   "source": [
    "#### 문제 3 : 최소, 최대\n",
    "- N개의 정수가 주어진다. 이때, 최솟값과 최댓값을 구하는 프로그램을 작성하시오."
   ]
  },
  {
   "cell_type": "code",
   "execution_count": null,
   "id": "861ef9da",
   "metadata": {},
   "outputs": [
    {
     "name": "stdout",
     "output_type": "stream",
     "text": [
      "35 7\n"
     ]
    }
   ],
   "source": [
    "n = int(input())\n",
    "list_ = list(map(int, input().split()))\n",
    "print(min(list_), max(list_))"
   ]
  },
  {
   "cell_type": "markdown",
   "id": "d08febf7",
   "metadata": {},
   "source": [
    "#### 문제 4 : 최댓값\n",
    "- 9개의 서로 다른 자연수가 주어질 때, 이들 중 최댓값을 찾고 그 최댓값이 몇 번째 수인지를 구하는 프로그램을 작성하시오."
   ]
  },
  {
   "cell_type": "code",
   "execution_count": 5,
   "id": "00f236f6",
   "metadata": {},
   "outputs": [
    {
     "name": "stdout",
     "output_type": "stream",
     "text": [
      "85\n",
      "8\n"
     ]
    }
   ],
   "source": [
    "res = []\n",
    "for i in range(9):\n",
    "    i = int(input())\n",
    "    res.append(i)\n",
    "print(max(res))\n",
    "print(res.index(max(res))+1)"
   ]
  },
  {
   "cell_type": "code",
   "execution_count": null,
   "id": "3c25e543",
   "metadata": {},
   "outputs": [],
   "source": []
  }
 ],
 "metadata": {
  "kernelspec": {
   "display_name": "Python 3",
   "language": "python",
   "name": "python3"
  },
  "language_info": {
   "codemirror_mode": {
    "name": "ipython",
    "version": 3
   },
   "file_extension": ".py",
   "mimetype": "text/x-python",
   "name": "python",
   "nbconvert_exporter": "python",
   "pygments_lexer": "ipython3",
   "version": "3.11.2"
  }
 },
 "nbformat": 4,
 "nbformat_minor": 5
}
