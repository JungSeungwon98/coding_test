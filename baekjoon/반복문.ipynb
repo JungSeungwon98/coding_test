{
 "cells": [
  {
   "cell_type": "markdown",
   "id": "d76d75a1",
   "metadata": {},
   "source": [
    "#### 1. 구구단 : N을 입력받은 뒤, 구구단 N단을 출력하는 프로그램을 작성하시오. 출력 형식에 맞춰서 출력하면 된다."
   ]
  },
  {
   "cell_type": "code",
   "execution_count": 5,
   "id": "4b617710",
   "metadata": {},
   "outputs": [
    {
     "name": "stdout",
     "output_type": "stream",
     "text": [
      "2 * 1 = 2\n",
      "2 * 2 = 4\n",
      "2 * 3 = 6\n",
      "2 * 4 = 8\n",
      "2 * 5 = 10\n",
      "2 * 6 = 12\n",
      "2 * 7 = 14\n",
      "2 * 8 = 16\n",
      "2 * 9 = 18\n"
     ]
    }
   ],
   "source": [
    "n = int(input())\n",
    "for i in range(1, 10):\n",
    "    print(n, \"*\", i, \"=\", n*i)"
   ]
  },
  {
   "cell_type": "markdown",
   "id": "4687a3ef",
   "metadata": {},
   "source": [
    "#### 문제 2 : A+B - 3\n",
    "- 두 정수 A와 B를 입력받은 다음, A+B를 출력하는 프로그램을 작성하시오."
   ]
  },
  {
   "cell_type": "code",
   "execution_count": 8,
   "id": "cf56da52",
   "metadata": {},
   "outputs": [
    {
     "name": "stdout",
     "output_type": "stream",
     "text": [
      "2\n",
      "5\n",
      "7\n",
      "17\n",
      "7\n"
     ]
    }
   ],
   "source": [
    "t = int(input())\n",
    "for i in range(t):\n",
    "    a, b = map(int, input().split())\n",
    "    print(a + b)"
   ]
  },
  {
   "cell_type": "markdown",
   "id": "8578660a",
   "metadata": {},
   "source": [
    "#### 문제3 : 합\n",
    "- n이 주어졌을 때, 1부터 n까지 합을 구하는 프로그램을 작성하시오."
   ]
  },
  {
   "cell_type": "code",
   "execution_count": 12,
   "id": "430c58f0",
   "metadata": {},
   "outputs": [
    {
     "name": "stdout",
     "output_type": "stream",
     "text": [
      "55\n"
     ]
    }
   ],
   "source": [
    "n = int(input())\n",
    "sum = 0\n",
    "for i in range(1, n + 1):\n",
    "    sum += i\n",
    "print(sum)"
   ]
  },
  {
   "cell_type": "markdown",
   "id": "7db18020",
   "metadata": {},
   "source": [
    "#### 문제4 : 영수증\n",
    "- 준원이는 저번 주에 살면서 처음으로 코스트코를 가 봤다. 정말 멋졌다. 그런데, 몇 개 담지도 않았는데 수상하게 높은 금액이 나오는 것이다! 준원이는 영수증을 보면서 정확하게 계산된 것이 맞는지 확인해보려 한다.\n",
    "영수증에 적힌,\n",
    "- 구매한 각 물건의 가격과 개수\n",
    "- 구매한 물건들의 총 금액\n",
    "- 을 보고, 구매한 물건의 가격과 개수로 계산한 총 금액이 영수증에 적힌 총 금액과 일치하는지 검사해보자."
   ]
  },
  {
   "cell_type": "code",
   "execution_count": null,
   "id": "f093a871",
   "metadata": {},
   "outputs": [
    {
     "name": "stdout",
     "output_type": "stream",
     "text": [
      "100000\n",
      "160000\n",
      "220000\n",
      "260000\n",
      "Yes\n"
     ]
    }
   ],
   "source": [
    "x = int(input())\n",
    "n = int(input())\n",
    "res = 0\n",
    "for i in range(n):\n",
    "    a, b = map(int, input().split())\n",
    "    sum = a * b\n",
    "    res += sum\n",
    "if res == x:\n",
    "    print(\"Yes\")\n",
    "else:\n",
    "    print(\"No\")"
   ]
  },
  {
   "cell_type": "markdown",
   "id": "717d7bbf",
   "metadata": {},
   "source": [
    "#### 문제5 : 코딩은 체육과목 입니다"
   ]
  },
  {
   "cell_type": "code",
   "execution_count": 22,
   "id": "54a44d58",
   "metadata": {},
   "outputs": [
    {
     "name": "stdout",
     "output_type": "stream",
     "text": [
      "long long long long long int\n"
     ]
    }
   ],
   "source": [
    "n = int(input())\n",
    "res = \"int\"\n",
    "for i in range(n // 4):\n",
    "    res = \"long \" + res\n",
    "print(res)"
   ]
  },
  {
   "cell_type": "markdown",
   "id": "7e85ad9c",
   "metadata": {},
   "source": [
    "#### 문제 6 : 빠른 A + B\n",
    "- Python을 사용하고 있다면, input 대신 sys.stdin.readline을 사용할 수 있다. 단, 이때는 맨 끝의 개행문자까지 같이 입력받기 때문에 문자열을 저장하고 싶을 경우 .rstrip()을 추가로 해 주는 것이 좋다."
   ]
  },
  {
   "cell_type": "code",
   "execution_count": null,
   "id": "4112346d",
   "metadata": {},
   "outputs": [],
   "source": [
    "import sys\n",
    "t = int(input())\n",
    "for i in range(t):\n",
    "    a, b = map(int, sys.stdin.readline().split())\n",
    "    print(a + b)"
   ]
  },
  {
   "cell_type": "markdown",
   "id": "36067e9c",
   "metadata": {},
   "source": [
    "#### 문제 7 : A + B - 7\n",
    "- 두 정수 A와 B를 입력받은 다음, A+B를 출력하는 프로그램을 작성하시오."
   ]
  },
  {
   "cell_type": "code",
   "execution_count": 6,
   "id": "90c5ca03",
   "metadata": {},
   "outputs": [
    {
     "name": "stdout",
     "output_type": "stream",
     "text": [
      "Case #1: 2\n",
      "Case #2: 2\n"
     ]
    }
   ],
   "source": [
    "t = int(input())\n",
    "for i in range(1, t + 1):\n",
    "    a, b = map(int, input().split())\n",
    "    print(f\"Case #{i}: {a + b}\")"
   ]
  },
  {
   "cell_type": "markdown",
   "id": "a6c5a349",
   "metadata": {},
   "source": [
    "#### 문제8 : A + B - 8\n",
    "- 두 정수 A와 B를 입력받은 다음, A+B를 출력하는 프로그램을 작성하시오."
   ]
  },
  {
   "cell_type": "code",
   "execution_count": 7,
   "id": "c79ee0bb",
   "metadata": {},
   "outputs": [
    {
     "name": "stdout",
     "output_type": "stream",
     "text": [
      "Case #1: 1 + 1 = 2\n",
      "Case #2: 2 + 3 = 5\n",
      "Case #3: 3 + 4 = 7\n",
      "Case #4: 9 + 8 = 17\n",
      "Case #5: 5 + 2 = 7\n"
     ]
    }
   ],
   "source": [
    "t = int(input())\n",
    "for i in range(1, t + 1):\n",
    "    a, b = map(int, input().split())\n",
    "    print(f\"Case #{i}: {a} + {b} = {a + b}\")"
   ]
  },
  {
   "cell_type": "markdown",
   "id": "ae5fe2d2",
   "metadata": {},
   "source": [
    "#### 문제9 : 별 찍기 - 1\n",
    "- 첫째 줄에는 별 1개, 둘째 줄에는 별 2개, N번째 줄에는 별 N개를 찍는 문제"
   ]
  },
  {
   "cell_type": "code",
   "execution_count": 11,
   "id": "cbdadf2b",
   "metadata": {},
   "outputs": [
    {
     "name": "stdout",
     "output_type": "stream",
     "text": [
      "*\n",
      "**\n",
      "***\n",
      "****\n",
      "*****\n"
     ]
    }
   ],
   "source": [
    "n = int(input())\n",
    "for i in range(1, n + 1):\n",
    "        print(\"*\" * i)"
   ]
  },
  {
   "cell_type": "markdown",
   "id": "d7c4251e",
   "metadata": {},
   "source": [
    "#### 문제 10 : 별 찍기 - 2\n",
    "- 첫째 줄에는 별 1개, 둘째 줄에는 별 2개, N번째 줄에는 별 N개를 찍는 문제\n",
    "- 하지만, 오른쪽을 기준으로 정렬한 별(예제 참고)을 출력하시오."
   ]
  },
  {
   "cell_type": "code",
   "execution_count": 12,
   "id": "c9347c72",
   "metadata": {},
   "outputs": [
    {
     "name": "stdout",
     "output_type": "stream",
     "text": [
      "    *\n",
      "   **\n",
      "  ***\n",
      " ****\n",
      "*****\n"
     ]
    }
   ],
   "source": [
    "n = int(input())\n",
    "for i in range(1, n + 1):\n",
    "    print(\" \"*(n - i) + \"*\" * i)"
   ]
  },
  {
   "cell_type": "markdown",
   "id": "6e98ad9c",
   "metadata": {},
   "source": [
    "#### 문제 11 : A + B -5"
   ]
  },
  {
   "cell_type": "code",
   "execution_count": 13,
   "id": "9a788655",
   "metadata": {},
   "outputs": [
    {
     "name": "stdout",
     "output_type": "stream",
     "text": [
      "2\n",
      "5\n",
      "7\n",
      "17\n",
      "7\n"
     ]
    }
   ],
   "source": [
    "while 1:\n",
    "    a, b = map(int, input().split())\n",
    "    if (a == 0 and b == 0):\n",
    "        break\n",
    "    else:\n",
    "        print(a + b)"
   ]
  },
  {
   "cell_type": "markdown",
   "id": "1c3c8a6a",
   "metadata": {},
   "source": [
    "#### 문제 12: A + B - 4"
   ]
  },
  {
   "cell_type": "code",
   "execution_count": 14,
   "id": "ccf7f9dc",
   "metadata": {},
   "outputs": [
    {
     "name": "stdout",
     "output_type": "stream",
     "text": [
      "2\n",
      "5\n",
      "7\n",
      "17\n",
      "7\n"
     ]
    }
   ],
   "source": [
    "while 1:\n",
    "    try:\n",
    "        a, b = map(int, input().split())\n",
    "        print(a + b)\n",
    "    except:\n",
    "        break"
   ]
  }
 ],
 "metadata": {
  "kernelspec": {
   "display_name": "Python 3",
   "language": "python",
   "name": "python3"
  },
  "language_info": {
   "codemirror_mode": {
    "name": "ipython",
    "version": 3
   },
   "file_extension": ".py",
   "mimetype": "text/x-python",
   "name": "python",
   "nbconvert_exporter": "python",
   "pygments_lexer": "ipython3",
   "version": "3.11.2"
  }
 },
 "nbformat": 4,
 "nbformat_minor": 5
}
